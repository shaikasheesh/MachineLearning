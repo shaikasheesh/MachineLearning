{
 "cells": [
  {
   "cell_type": "code",
   "execution_count": 3,
   "id": "0a9f919b",
   "metadata": {},
   "outputs": [],
   "source": [
    "import pandas as pd\n",
    "import matplotlib.pyplot as plt\n",
    "import seaborn as sns\n",
    "import statsmodels.api as sm"
   ]
  },
  {
   "cell_type": "code",
   "execution_count": 4,
   "id": "50e556b6",
   "metadata": {},
   "outputs": [],
   "source": [
    "df_airline = pd.read_csv('airline_passengers.csv')"
   ]
  },
  {
   "cell_type": "code",
   "execution_count": 5,
   "id": "1b868732",
   "metadata": {},
   "outputs": [
    {
     "data": {
      "text/html": [
       "<div>\n",
       "<style scoped>\n",
       "    .dataframe tbody tr th:only-of-type {\n",
       "        vertical-align: middle;\n",
       "    }\n",
       "\n",
       "    .dataframe tbody tr th {\n",
       "        vertical-align: top;\n",
       "    }\n",
       "\n",
       "    .dataframe thead th {\n",
       "        text-align: right;\n",
       "    }\n",
       "</style>\n",
       "<table border=\"1\" class=\"dataframe\">\n",
       "  <thead>\n",
       "    <tr style=\"text-align: right;\">\n",
       "      <th></th>\n",
       "      <th>Month</th>\n",
       "      <th>Thousands of Passengers</th>\n",
       "    </tr>\n",
       "  </thead>\n",
       "  <tbody>\n",
       "    <tr>\n",
       "      <th>0</th>\n",
       "      <td>1949-01</td>\n",
       "      <td>112.0</td>\n",
       "    </tr>\n",
       "    <tr>\n",
       "      <th>1</th>\n",
       "      <td>1949-02</td>\n",
       "      <td>118.0</td>\n",
       "    </tr>\n",
       "    <tr>\n",
       "      <th>2</th>\n",
       "      <td>1949-03</td>\n",
       "      <td>132.0</td>\n",
       "    </tr>\n",
       "    <tr>\n",
       "      <th>3</th>\n",
       "      <td>1949-04</td>\n",
       "      <td>129.0</td>\n",
       "    </tr>\n",
       "    <tr>\n",
       "      <th>4</th>\n",
       "      <td>1949-05</td>\n",
       "      <td>121.0</td>\n",
       "    </tr>\n",
       "  </tbody>\n",
       "</table>\n",
       "</div>"
      ],
      "text/plain": [
       "     Month  Thousands of Passengers\n",
       "0  1949-01                    112.0\n",
       "1  1949-02                    118.0\n",
       "2  1949-03                    132.0\n",
       "3  1949-04                    129.0\n",
       "4  1949-05                    121.0"
      ]
     },
     "execution_count": 5,
     "metadata": {},
     "output_type": "execute_result"
    }
   ],
   "source": [
    "df_airline.head()"
   ]
  },
  {
   "cell_type": "code",
   "execution_count": 9,
   "id": "8ea597ec",
   "metadata": {},
   "outputs": [
    {
     "data": {
      "text/plain": [
       "Month                      0\n",
       "Thousands of Passengers    0\n",
       "dtype: int64"
      ]
     },
     "execution_count": 9,
     "metadata": {},
     "output_type": "execute_result"
    }
   ],
   "source": [
    "df_airline.isnull().sum()"
   ]
  },
  {
   "cell_type": "code",
   "execution_count": 8,
   "id": "e06d025e",
   "metadata": {},
   "outputs": [],
   "source": [
    "df_airline.dropna(inplace= True)"
   ]
  },
  {
   "cell_type": "code",
   "execution_count": 12,
   "id": "15e8294f",
   "metadata": {},
   "outputs": [
    {
     "name": "stdout",
     "output_type": "stream",
     "text": [
      "<class 'pandas.core.frame.DataFrame'>\n",
      "Int64Index: 144 entries, 0 to 143\n",
      "Data columns (total 2 columns):\n",
      " #   Column                   Non-Null Count  Dtype         \n",
      "---  ------                   --------------  -----         \n",
      " 0   Month                    144 non-null    datetime64[ns]\n",
      " 1   Thousands of Passengers  144 non-null    float64       \n",
      "dtypes: datetime64[ns](1), float64(1)\n",
      "memory usage: 3.4 KB\n"
     ]
    }
   ],
   "source": [
    "df_airline.info()"
   ]
  },
  {
   "cell_type": "code",
   "execution_count": 11,
   "id": "69690315",
   "metadata": {},
   "outputs": [],
   "source": [
    "df_airline['Month'] = pd.to_datetime(df_airline['Month'])"
   ]
  },
  {
   "cell_type": "code",
   "execution_count": 16,
   "id": "75ea5b91",
   "metadata": {},
   "outputs": [],
   "source": [
    "df_airline.set_index('Month', inplace=True)"
   ]
  },
  {
   "cell_type": "code",
   "execution_count": 18,
   "id": "809e75f3",
   "metadata": {},
   "outputs": [
    {
     "data": {
      "text/plain": [
       "[<matplotlib.lines.Line2D at 0x1a44eee7fa0>]"
      ]
     },
     "execution_count": 18,
     "metadata": {},
     "output_type": "execute_result"
    },
    {
     "data": {
      "image/png": "[encoded data removed]",
      "text/plain": [
       "<Figure size 432x288 with 1 Axes>"
      ]
     },
     "metadata": {
      "needs_background": "light"
     },
     "output_type": "display_data"
    }
   ],
   "source": [
    "plt.plot(df_airline)"
   ]
  },
  {
   "cell_type": "code",
   "execution_count": 19,
   "id": "9b0fd764",
   "metadata": {},
   "outputs": [],
   "source": [
    "from statsmodels.tsa.stattools import adfuller"
   ]
  },
  {
   "cell_type": "code",
   "execution_count": 20,
   "id": "f692a929",
   "metadata": {},
   "outputs": [],
   "source": [
    "result = adfuller(df_airline)"
   ]
  },
  {
   "cell_type": "code",
   "execution_count": 22,
   "id": "bde95a6f",
   "metadata": {},
   "outputs": [
    {
     "data": {
      "text/plain": [
       "(0.8153688792060482,\n",
       " 0.991880243437641,\n",
       " 13,\n",
       " 130,\n",
       " {'1%': -3.4816817173418295,\n",
       "  '5%': -2.8840418343195267,\n",
       "  '10%': -2.578770059171598},\n",
       " 996.692930839019)"
      ]
     },
     "execution_count": 22,
     "metadata": {},
     "output_type": "execute_result"
    }
   ],
   "source": [
    "result"
   ]
  },
  {
   "cell_type": "code",
   "execution_count": 51,
   "id": "32dc46dd",
   "metadata": {},
   "outputs": [],
   "source": [
    "df_airline['Differencing'] = df_airline['Thousands of Passengers'] - df_airline['Thousands of Passengers'].shift(12)"
   ]
  },
  {
   "cell_type": "code",
   "execution_count": 52,
   "id": "99024aeb",
   "metadata": {},
   "outputs": [
    {
     "data": {
      "text/html": [
       "<div>\n",
       "<style scoped>\n",
       "    .dataframe tbody tr th:only-of-type {\n",
       "        vertical-align: middle;\n",
       "    }\n",
       "\n",
       "    .dataframe tbody tr th {\n",
       "        vertical-align: top;\n",
       "    }\n",
       "\n",
       "    .dataframe thead th {\n",
       "        text-align: right;\n",
       "    }\n",
       "</style>\n",
       "<table border=\"1\" class=\"dataframe\">\n",
       "  <thead>\n",
       "    <tr style=\"text-align: right;\">\n",
       "      <th></th>\n",
       "      <th>Thousands of Passengers</th>\n",
       "      <th>Differencing</th>\n",
       "      <th>Differencing1</th>\n",
       "      <th>Differencing12</th>\n",
       "    </tr>\n",
       "    <tr>\n",
       "      <th>Month</th>\n",
       "      <th></th>\n",
       "      <th></th>\n",
       "      <th></th>\n",
       "      <th></th>\n",
       "    </tr>\n",
       "  </thead>\n",
       "  <tbody>\n",
       "    <tr>\n",
       "      <th>1951-03-01</th>\n",
       "      <td>178.0</td>\n",
       "      <td>NaN</td>\n",
       "      <td>23.0</td>\n",
       "      <td>19.0</td>\n",
       "    </tr>\n",
       "    <tr>\n",
       "      <th>1951-04-01</th>\n",
       "      <td>163.0</td>\n",
       "      <td>NaN</td>\n",
       "      <td>-43.0</td>\n",
       "      <td>-22.0</td>\n",
       "    </tr>\n",
       "    <tr>\n",
       "      <th>1951-05-01</th>\n",
       "      <td>172.0</td>\n",
       "      <td>NaN</td>\n",
       "      <td>24.0</td>\n",
       "      <td>28.0</td>\n",
       "    </tr>\n",
       "    <tr>\n",
       "      <th>1951-06-01</th>\n",
       "      <td>178.0</td>\n",
       "      <td>NaN</td>\n",
       "      <td>-3.0</td>\n",
       "      <td>-37.0</td>\n",
       "    </tr>\n",
       "    <tr>\n",
       "      <th>1951-07-01</th>\n",
       "      <td>199.0</td>\n",
       "      <td>NaN</td>\n",
       "      <td>15.0</td>\n",
       "      <td>18.0</td>\n",
       "    </tr>\n",
       "  </tbody>\n",
       "</table>\n",
       "</div>"
      ],
      "text/plain": [
       "            Thousands of Passengers  Differencing  Differencing1  \\\n",
       "Month                                                              \n",
       "1951-03-01                    178.0           NaN           23.0   \n",
       "1951-04-01                    163.0           NaN          -43.0   \n",
       "1951-05-01                    172.0           NaN           24.0   \n",
       "1951-06-01                    178.0           NaN           -3.0   \n",
       "1951-07-01                    199.0           NaN           15.0   \n",
       "\n",
       "            Differencing12  \n",
       "Month                       \n",
       "1951-03-01            19.0  \n",
       "1951-04-01           -22.0  \n",
       "1951-05-01            28.0  \n",
       "1951-06-01           -37.0  \n",
       "1951-07-01            18.0  "
      ]
     },
     "execution_count": 52,
     "metadata": {},
     "output_type": "execute_result"
    }
   ],
   "source": [
    "df_airline.head()"
   ]
  },
  {
   "cell_type": "code",
   "execution_count": 53,
   "id": "33289779",
   "metadata": {},
   "outputs": [],
   "source": [
    "df_airline.dropna(inplace=True)"
   ]
  },
  {
   "cell_type": "code",
   "execution_count": 54,
   "id": "7df23ece",
   "metadata": {},
   "outputs": [
    {
     "data": {
      "text/html": [
       "<div>\n",
       "<style scoped>\n",
       "    .dataframe tbody tr th:only-of-type {\n",
       "        vertical-align: middle;\n",
       "    }\n",
       "\n",
       "    .dataframe tbody tr th {\n",
       "        vertical-align: top;\n",
       "    }\n",
       "\n",
       "    .dataframe thead th {\n",
       "        text-align: right;\n",
       "    }\n",
       "</style>\n",
       "<table border=\"1\" class=\"dataframe\">\n",
       "  <thead>\n",
       "    <tr style=\"text-align: right;\">\n",
       "      <th></th>\n",
       "      <th>Thousands of Passengers</th>\n",
       "      <th>Differencing</th>\n",
       "      <th>Differencing1</th>\n",
       "      <th>Differencing12</th>\n",
       "    </tr>\n",
       "    <tr>\n",
       "      <th>Month</th>\n",
       "      <th></th>\n",
       "      <th></th>\n",
       "      <th></th>\n",
       "      <th></th>\n",
       "    </tr>\n",
       "  </thead>\n",
       "  <tbody>\n",
       "    <tr>\n",
       "      <th>1952-03-01</th>\n",
       "      <td>193.0</td>\n",
       "      <td>15.0</td>\n",
       "      <td>4.0</td>\n",
       "      <td>-19.0</td>\n",
       "    </tr>\n",
       "    <tr>\n",
       "      <th>1952-04-01</th>\n",
       "      <td>181.0</td>\n",
       "      <td>18.0</td>\n",
       "      <td>-25.0</td>\n",
       "      <td>18.0</td>\n",
       "    </tr>\n",
       "    <tr>\n",
       "      <th>1952-05-01</th>\n",
       "      <td>183.0</td>\n",
       "      <td>11.0</td>\n",
       "      <td>14.0</td>\n",
       "      <td>-10.0</td>\n",
       "    </tr>\n",
       "    <tr>\n",
       "      <th>1952-06-01</th>\n",
       "      <td>218.0</td>\n",
       "      <td>40.0</td>\n",
       "      <td>33.0</td>\n",
       "      <td>36.0</td>\n",
       "    </tr>\n",
       "    <tr>\n",
       "      <th>1952-07-01</th>\n",
       "      <td>230.0</td>\n",
       "      <td>31.0</td>\n",
       "      <td>-23.0</td>\n",
       "      <td>-38.0</td>\n",
       "    </tr>\n",
       "  </tbody>\n",
       "</table>\n",
       "</div>"
      ],
      "text/plain": [
       "            Thousands of Passengers  Differencing  Differencing1  \\\n",
       "Month                                                              \n",
       "1952-03-01                    193.0          15.0            4.0   \n",
       "1952-04-01                    181.0          18.0          -25.0   \n",
       "1952-05-01                    183.0          11.0           14.0   \n",
       "1952-06-01                    218.0          40.0           33.0   \n",
       "1952-07-01                    230.0          31.0          -23.0   \n",
       "\n",
       "            Differencing12  \n",
       "Month                       \n",
       "1952-03-01           -19.0  \n",
       "1952-04-01            18.0  \n",
       "1952-05-01           -10.0  \n",
       "1952-06-01            36.0  \n",
       "1952-07-01           -38.0  "
      ]
     },
     "execution_count": 54,
     "metadata": {},
     "output_type": "execute_result"
    }
   ],
   "source": [
    "df_airline.head()"
   ]
  },
  {
   "cell_type": "code",
   "execution_count": 55,
   "id": "859b03ea",
   "metadata": {},
   "outputs": [],
   "source": [
    "result = adfuller(df_airline['Differencing'])"
   ]
  },
  {
   "cell_type": "code",
   "execution_count": 56,
   "id": "cf3f7559",
   "metadata": {},
   "outputs": [
    {
     "data": {
      "text/plain": [
       "(-3.0591176294883504,\n",
       " 0.0297303575537637,\n",
       " 1,\n",
       " 104,\n",
       " {'1%': -3.4948504603223145,\n",
       "  '5%': -2.889758398668639,\n",
       "  '10%': -2.5818220155325444},\n",
       " 724.0210339042253)"
      ]
     },
     "execution_count": 56,
     "metadata": {},
     "output_type": "execute_result"
    }
   ],
   "source": [
    "result"
   ]
  },
  {
   "cell_type": "code",
   "execution_count": 41,
   "id": "02494825",
   "metadata": {},
   "outputs": [],
   "source": [
    "#it should be less that 0.05 so we are differencing it again\n",
    "df_airline['Differencing1'] = df_airline['Differencing'] - df_airline['Differencing'].shift(1)"
   ]
  },
  {
   "cell_type": "code",
   "execution_count": 42,
   "id": "96639e26",
   "metadata": {},
   "outputs": [],
   "source": [
    "df_airline.dropna(inplace=True)"
   ]
  },
  {
   "cell_type": "code",
   "execution_count": 43,
   "id": "acdc4e38",
   "metadata": {},
   "outputs": [
    {
     "data": {
      "text/html": [
       "<div>\n",
       "<style scoped>\n",
       "    .dataframe tbody tr th:only-of-type {\n",
       "        vertical-align: middle;\n",
       "    }\n",
       "\n",
       "    .dataframe tbody tr th {\n",
       "        vertical-align: top;\n",
       "    }\n",
       "\n",
       "    .dataframe thead th {\n",
       "        text-align: right;\n",
       "    }\n",
       "</style>\n",
       "<table border=\"1\" class=\"dataframe\">\n",
       "  <thead>\n",
       "    <tr style=\"text-align: right;\">\n",
       "      <th></th>\n",
       "      <th>Thousands of Passengers</th>\n",
       "      <th>Differencing</th>\n",
       "      <th>Differencing1</th>\n",
       "    </tr>\n",
       "    <tr>\n",
       "      <th>Month</th>\n",
       "      <th></th>\n",
       "      <th></th>\n",
       "      <th></th>\n",
       "    </tr>\n",
       "  </thead>\n",
       "  <tbody>\n",
       "    <tr>\n",
       "      <th>1949-03-01</th>\n",
       "      <td>132.0</td>\n",
       "      <td>14.0</td>\n",
       "      <td>8.0</td>\n",
       "    </tr>\n",
       "    <tr>\n",
       "      <th>1949-04-01</th>\n",
       "      <td>129.0</td>\n",
       "      <td>-3.0</td>\n",
       "      <td>-17.0</td>\n",
       "    </tr>\n",
       "    <tr>\n",
       "      <th>1949-05-01</th>\n",
       "      <td>121.0</td>\n",
       "      <td>-8.0</td>\n",
       "      <td>-5.0</td>\n",
       "    </tr>\n",
       "    <tr>\n",
       "      <th>1949-06-01</th>\n",
       "      <td>135.0</td>\n",
       "      <td>14.0</td>\n",
       "      <td>22.0</td>\n",
       "    </tr>\n",
       "    <tr>\n",
       "      <th>1949-07-01</th>\n",
       "      <td>148.0</td>\n",
       "      <td>13.0</td>\n",
       "      <td>-1.0</td>\n",
       "    </tr>\n",
       "  </tbody>\n",
       "</table>\n",
       "</div>"
      ],
      "text/plain": [
       "            Thousands of Passengers  Differencing  Differencing1\n",
       "Month                                                           \n",
       "1949-03-01                    132.0          14.0            8.0\n",
       "1949-04-01                    129.0          -3.0          -17.0\n",
       "1949-05-01                    121.0          -8.0           -5.0\n",
       "1949-06-01                    135.0          14.0           22.0\n",
       "1949-07-01                    148.0          13.0           -1.0"
      ]
     },
     "execution_count": 43,
     "metadata": {},
     "output_type": "execute_result"
    }
   ],
   "source": [
    "df_airline.head()"
   ]
  },
  {
   "cell_type": "code",
   "execution_count": 44,
   "id": "5b0d690d",
   "metadata": {},
   "outputs": [
    {
     "data": {
      "text/plain": [
       "(-16.384231542468505,\n",
       " 2.7328918500142407e-29,\n",
       " 11,\n",
       " 130,\n",
       " {'1%': -3.4816817173418295,\n",
       "  '5%': -2.8840418343195267,\n",
       "  '10%': -2.578770059171598},\n",
       " 988.60204172756)"
      ]
     },
     "execution_count": 44,
     "metadata": {},
     "output_type": "execute_result"
    }
   ],
   "source": [
    "result = adfuller(df_airline['Differencing1'])\n",
    "result"
   ]
  },
  {
   "cell_type": "code",
   "execution_count": 48,
   "id": "8613d3f3",
   "metadata": {},
   "outputs": [],
   "source": [
    "#seasonal diff\n",
    "df_airline['Differencing12'] = df_airline['Differencing1'] - df_airline['Differencing1'].shift(12)"
   ]
  },
  {
   "cell_type": "code",
   "execution_count": 49,
   "id": "7ccbc431",
   "metadata": {},
   "outputs": [],
   "source": [
    "df_airline.dropna(inplace=True)"
   ]
  },
  {
   "cell_type": "code",
   "execution_count": 50,
   "id": "d00a27b5",
   "metadata": {},
   "outputs": [
    {
     "data": {
      "text/plain": [
       "(-7.670713024903471,\n",
       " 1.59643206119562e-11,\n",
       " 7,\n",
       " 110,\n",
       " {'1%': -3.4912451337340342,\n",
       "  '5%': -2.8881954545454547,\n",
       "  '10%': -2.5809876033057852},\n",
       " 841.9810310055661)"
      ]
     },
     "execution_count": 50,
     "metadata": {},
     "output_type": "execute_result"
    }
   ],
   "source": [
    "result = adfuller(df_airline['Differencing12'])\n",
    "result"
   ]
  },
  {
   "cell_type": "code",
   "execution_count": 57,
   "id": "43aef5c8",
   "metadata": {},
   "outputs": [],
   "source": [
    "from statsmodels.graphics.tsaplots import plot_acf,plot_pacf"
   ]
  },
  {
   "cell_type": "code",
   "execution_count": 60,
   "id": "b360831f",
   "metadata": {},
   "outputs": [
    {
     "data": {
      "image/png": "[encoded data removed]",
      "text/plain": [
       "<Figure size 432x288 with 1 Axes>"
      ]
     },
     "execution_count": 60,
     "metadata": {},
     "output_type": "execute_result"
    },
    {
     "data": {
      "image/png": "[encoded data removed]",
      "text/plain": [
       "<Figure size 432x288 with 1 Axes>"
      ]
     },
     "metadata": {
      "needs_background": "light"
     },
     "output_type": "display_data"
    }
   ],
   "source": [
    "plot_acf(df_airline['Differencing'])\n",
    "plot_pacf(df_airline['Differencing'])"
   ]
  },
  {
   "cell_type": "code",
   "execution_count": 61,
   "id": "b60206da",
   "metadata": {},
   "outputs": [
    {
     "data": {
      "image/png": "[encoded data removed]",
      "text/plain": [
       "<Figure size 432x288 with 1 Axes>"
      ]
     },
     "execution_count": 61,
     "metadata": {},
     "output_type": "execute_result"
    },
    {
     "data": {
      "image/png": "[encoded data removed]",
      "text/plain": [
       "<Figure size 432x288 with 1 Axes>"
      ]
     },
     "metadata": {
      "needs_background": "light"
     },
     "output_type": "display_data"
    }
   ],
   "source": [
    "plot_pacf(df_airline['Differencing'])"
   ]
  },
  {
   "cell_type": "code",
   "execution_count": 62,
   "id": "a456cf37",
   "metadata": {},
   "outputs": [
    {
     "data": {
      "text/html": [
       "<div>\n",
       "<style scoped>\n",
       "    .dataframe tbody tr th:only-of-type {\n",
       "        vertical-align: middle;\n",
       "    }\n",
       "\n",
       "    .dataframe tbody tr th {\n",
       "        vertical-align: top;\n",
       "    }\n",
       "\n",
       "    .dataframe thead th {\n",
       "        text-align: right;\n",
       "    }\n",
       "</style>\n",
       "<table border=\"1\" class=\"dataframe\">\n",
       "  <thead>\n",
       "    <tr style=\"text-align: right;\">\n",
       "      <th></th>\n",
       "      <th>Thousands of Passengers</th>\n",
       "      <th>Differencing</th>\n",
       "      <th>Differencing1</th>\n",
       "      <th>Differencing12</th>\n",
       "    </tr>\n",
       "    <tr>\n",
       "      <th>Month</th>\n",
       "      <th></th>\n",
       "      <th></th>\n",
       "      <th></th>\n",
       "      <th></th>\n",
       "    </tr>\n",
       "  </thead>\n",
       "  <tbody>\n",
       "    <tr>\n",
       "      <th>1952-03-01</th>\n",
       "      <td>193.0</td>\n",
       "      <td>15.0</td>\n",
       "      <td>4.0</td>\n",
       "      <td>-19.0</td>\n",
       "    </tr>\n",
       "    <tr>\n",
       "      <th>1952-04-01</th>\n",
       "      <td>181.0</td>\n",
       "      <td>18.0</td>\n",
       "      <td>-25.0</td>\n",
       "      <td>18.0</td>\n",
       "    </tr>\n",
       "    <tr>\n",
       "      <th>1952-05-01</th>\n",
       "      <td>183.0</td>\n",
       "      <td>11.0</td>\n",
       "      <td>14.0</td>\n",
       "      <td>-10.0</td>\n",
       "    </tr>\n",
       "    <tr>\n",
       "      <th>1952-06-01</th>\n",
       "      <td>218.0</td>\n",
       "      <td>40.0</td>\n",
       "      <td>33.0</td>\n",
       "      <td>36.0</td>\n",
       "    </tr>\n",
       "    <tr>\n",
       "      <th>1952-07-01</th>\n",
       "      <td>230.0</td>\n",
       "      <td>31.0</td>\n",
       "      <td>-23.0</td>\n",
       "      <td>-38.0</td>\n",
       "    </tr>\n",
       "    <tr>\n",
       "      <th>...</th>\n",
       "      <td>...</td>\n",
       "      <td>...</td>\n",
       "      <td>...</td>\n",
       "      <td>...</td>\n",
       "    </tr>\n",
       "    <tr>\n",
       "      <th>1960-08-01</th>\n",
       "      <td>606.0</td>\n",
       "      <td>47.0</td>\n",
       "      <td>-103.0</td>\n",
       "      <td>-38.0</td>\n",
       "    </tr>\n",
       "    <tr>\n",
       "      <th>1960-09-01</th>\n",
       "      <td>508.0</td>\n",
       "      <td>45.0</td>\n",
       "      <td>-82.0</td>\n",
       "      <td>25.0</td>\n",
       "    </tr>\n",
       "    <tr>\n",
       "      <th>1960-10-01</th>\n",
       "      <td>461.0</td>\n",
       "      <td>54.0</td>\n",
       "      <td>51.0</td>\n",
       "      <td>11.0</td>\n",
       "    </tr>\n",
       "    <tr>\n",
       "      <th>1960-11-01</th>\n",
       "      <td>390.0</td>\n",
       "      <td>28.0</td>\n",
       "      <td>-24.0</td>\n",
       "      <td>-35.0</td>\n",
       "    </tr>\n",
       "    <tr>\n",
       "      <th>1960-12-01</th>\n",
       "      <td>432.0</td>\n",
       "      <td>27.0</td>\n",
       "      <td>113.0</td>\n",
       "      <td>25.0</td>\n",
       "    </tr>\n",
       "  </tbody>\n",
       "</table>\n",
       "<p>106 rows × 4 columns</p>\n",
       "</div>"
      ],
      "text/plain": [
       "            Thousands of Passengers  Differencing  Differencing1  \\\n",
       "Month                                                              \n",
       "1952-03-01                    193.0          15.0            4.0   \n",
       "1952-04-01                    181.0          18.0          -25.0   \n",
       "1952-05-01                    183.0          11.0           14.0   \n",
       "1952-06-01                    218.0          40.0           33.0   \n",
       "1952-07-01                    230.0          31.0          -23.0   \n",
       "...                             ...           ...            ...   \n",
       "1960-08-01                    606.0          47.0         -103.0   \n",
       "1960-09-01                    508.0          45.0          -82.0   \n",
       "1960-10-01                    461.0          54.0           51.0   \n",
       "1960-11-01                    390.0          28.0          -24.0   \n",
       "1960-12-01                    432.0          27.0          113.0   \n",
       "\n",
       "            Differencing12  \n",
       "Month                       \n",
       "1952-03-01           -19.0  \n",
       "1952-04-01            18.0  \n",
       "1952-05-01           -10.0  \n",
       "1952-06-01            36.0  \n",
       "1952-07-01           -38.0  \n",
       "...                    ...  \n",
       "1960-08-01           -38.0  \n",
       "1960-09-01            25.0  \n",
       "1960-10-01            11.0  \n",
       "1960-11-01           -35.0  \n",
       "1960-12-01            25.0  \n",
       "\n",
       "[106 rows x 4 columns]"
      ]
     },
     "execution_count": 62,
     "metadata": {},
     "output_type": "execute_result"
    }
   ],
   "source": [
    "df_airline"
   ]
  },
  {
   "cell_type": "code",
   "execution_count": 101,
   "id": "d97aa703",
   "metadata": {},
   "outputs": [],
   "source": [
    "#train test split\n",
    "from datetime import datetime,timedelta\n",
    "train_time_end = datetime(1995,12,1)\n",
    "test_time_end = datetime(1960,12,1)\n",
    "test_time_start = datetime(1956,1,1)"
   ]
  },
  {
   "cell_type": "code",
   "execution_count": 102,
   "id": "4dd4ab6b",
   "metadata": {},
   "outputs": [],
   "source": [
    "train_data = df_airline[:train_time_end]\n",
    "test_data = df_airline[test_time_start:test_time_end]"
   ]
  },
  {
   "cell_type": "code",
   "execution_count": 103,
   "id": "1d27211d",
   "metadata": {},
   "outputs": [
    {
     "data": {
      "text/html": [
       "<div>\n",
       "<style scoped>\n",
       "    .dataframe tbody tr th:only-of-type {\n",
       "        vertical-align: middle;\n",
       "    }\n",
       "\n",
       "    .dataframe tbody tr th {\n",
       "        vertical-align: top;\n",
       "    }\n",
       "\n",
       "    .dataframe thead th {\n",
       "        text-align: right;\n",
       "    }\n",
       "</style>\n",
       "<table border=\"1\" class=\"dataframe\">\n",
       "  <thead>\n",
       "    <tr style=\"text-align: right;\">\n",
       "      <th></th>\n",
       "      <th>Thousands of Passengers</th>\n",
       "      <th>Differencing</th>\n",
       "      <th>Differencing1</th>\n",
       "      <th>Differencing12</th>\n",
       "    </tr>\n",
       "    <tr>\n",
       "      <th>Month</th>\n",
       "      <th></th>\n",
       "      <th></th>\n",
       "      <th></th>\n",
       "      <th></th>\n",
       "    </tr>\n",
       "  </thead>\n",
       "  <tbody>\n",
       "    <tr>\n",
       "      <th>1952-03-01</th>\n",
       "      <td>193.0</td>\n",
       "      <td>15.0</td>\n",
       "      <td>4.0</td>\n",
       "      <td>-19.0</td>\n",
       "    </tr>\n",
       "    <tr>\n",
       "      <th>1952-04-01</th>\n",
       "      <td>181.0</td>\n",
       "      <td>18.0</td>\n",
       "      <td>-25.0</td>\n",
       "      <td>18.0</td>\n",
       "    </tr>\n",
       "    <tr>\n",
       "      <th>1952-05-01</th>\n",
       "      <td>183.0</td>\n",
       "      <td>11.0</td>\n",
       "      <td>14.0</td>\n",
       "      <td>-10.0</td>\n",
       "    </tr>\n",
       "    <tr>\n",
       "      <th>1952-06-01</th>\n",
       "      <td>218.0</td>\n",
       "      <td>40.0</td>\n",
       "      <td>33.0</td>\n",
       "      <td>36.0</td>\n",
       "    </tr>\n",
       "    <tr>\n",
       "      <th>1952-07-01</th>\n",
       "      <td>230.0</td>\n",
       "      <td>31.0</td>\n",
       "      <td>-23.0</td>\n",
       "      <td>-38.0</td>\n",
       "    </tr>\n",
       "    <tr>\n",
       "      <th>...</th>\n",
       "      <td>...</td>\n",
       "      <td>...</td>\n",
       "      <td>...</td>\n",
       "      <td>...</td>\n",
       "    </tr>\n",
       "    <tr>\n",
       "      <th>1960-08-01</th>\n",
       "      <td>606.0</td>\n",
       "      <td>47.0</td>\n",
       "      <td>-103.0</td>\n",
       "      <td>-38.0</td>\n",
       "    </tr>\n",
       "    <tr>\n",
       "      <th>1960-09-01</th>\n",
       "      <td>508.0</td>\n",
       "      <td>45.0</td>\n",
       "      <td>-82.0</td>\n",
       "      <td>25.0</td>\n",
       "    </tr>\n",
       "    <tr>\n",
       "      <th>1960-10-01</th>\n",
       "      <td>461.0</td>\n",
       "      <td>54.0</td>\n",
       "      <td>51.0</td>\n",
       "      <td>11.0</td>\n",
       "    </tr>\n",
       "    <tr>\n",
       "      <th>1960-11-01</th>\n",
       "      <td>390.0</td>\n",
       "      <td>28.0</td>\n",
       "      <td>-24.0</td>\n",
       "      <td>-35.0</td>\n",
       "    </tr>\n",
       "    <tr>\n",
       "      <th>1960-12-01</th>\n",
       "      <td>432.0</td>\n",
       "      <td>27.0</td>\n",
       "      <td>113.0</td>\n",
       "      <td>25.0</td>\n",
       "    </tr>\n",
       "  </tbody>\n",
       "</table>\n",
       "<p>106 rows × 4 columns</p>\n",
       "</div>"
      ],
      "text/plain": [
       "            Thousands of Passengers  Differencing  Differencing1  \\\n",
       "Month                                                              \n",
       "1952-03-01                    193.0          15.0            4.0   \n",
       "1952-04-01                    181.0          18.0          -25.0   \n",
       "1952-05-01                    183.0          11.0           14.0   \n",
       "1952-06-01                    218.0          40.0           33.0   \n",
       "1952-07-01                    230.0          31.0          -23.0   \n",
       "...                             ...           ...            ...   \n",
       "1960-08-01                    606.0          47.0         -103.0   \n",
       "1960-09-01                    508.0          45.0          -82.0   \n",
       "1960-10-01                    461.0          54.0           51.0   \n",
       "1960-11-01                    390.0          28.0          -24.0   \n",
       "1960-12-01                    432.0          27.0          113.0   \n",
       "\n",
       "            Differencing12  \n",
       "Month                       \n",
       "1952-03-01           -19.0  \n",
       "1952-04-01            18.0  \n",
       "1952-05-01           -10.0  \n",
       "1952-06-01            36.0  \n",
       "1952-07-01           -38.0  \n",
       "...                    ...  \n",
       "1960-08-01           -38.0  \n",
       "1960-09-01            25.0  \n",
       "1960-10-01            11.0  \n",
       "1960-11-01           -35.0  \n",
       "1960-12-01            25.0  \n",
       "\n",
       "[106 rows x 4 columns]"
      ]
     },
     "execution_count": 103,
     "metadata": {},
     "output_type": "execute_result"
    }
   ],
   "source": [
    "train_data"
   ]
  },
  {
   "cell_type": "code",
   "execution_count": 104,
   "id": "96d237ef",
   "metadata": {},
   "outputs": [
    {
     "data": {
      "text/html": [
       "<div>\n",
       "<style scoped>\n",
       "    .dataframe tbody tr th:only-of-type {\n",
       "        vertical-align: middle;\n",
       "    }\n",
       "\n",
       "    .dataframe tbody tr th {\n",
       "        vertical-align: top;\n",
       "    }\n",
       "\n",
       "    .dataframe thead th {\n",
       "        text-align: right;\n",
       "    }\n",
       "</style>\n",
       "<table border=\"1\" class=\"dataframe\">\n",
       "  <thead>\n",
       "    <tr style=\"text-align: right;\">\n",
       "      <th></th>\n",
       "      <th>Thousands of Passengers</th>\n",
       "      <th>Differencing</th>\n",
       "      <th>Differencing1</th>\n",
       "      <th>Differencing12</th>\n",
       "    </tr>\n",
       "    <tr>\n",
       "      <th>Month</th>\n",
       "      <th></th>\n",
       "      <th></th>\n",
       "      <th></th>\n",
       "      <th></th>\n",
       "    </tr>\n",
       "  </thead>\n",
       "  <tbody>\n",
       "    <tr>\n",
       "      <th>1956-01-01</th>\n",
       "      <td>284.0</td>\n",
       "      <td>42.0</td>\n",
       "      <td>-35.0</td>\n",
       "      <td>-22.0</td>\n",
       "    </tr>\n",
       "    <tr>\n",
       "      <th>1956-02-01</th>\n",
       "      <td>277.0</td>\n",
       "      <td>44.0</td>\n",
       "      <td>-13.0</td>\n",
       "      <td>9.0</td>\n",
       "    </tr>\n",
       "    <tr>\n",
       "      <th>1956-03-01</th>\n",
       "      <td>317.0</td>\n",
       "      <td>50.0</td>\n",
       "      <td>47.0</td>\n",
       "      <td>4.0</td>\n",
       "    </tr>\n",
       "    <tr>\n",
       "      <th>1956-04-01</th>\n",
       "      <td>313.0</td>\n",
       "      <td>44.0</td>\n",
       "      <td>-44.0</td>\n",
       "      <td>-12.0</td>\n",
       "    </tr>\n",
       "    <tr>\n",
       "      <th>1956-05-01</th>\n",
       "      <td>318.0</td>\n",
       "      <td>48.0</td>\n",
       "      <td>9.0</td>\n",
       "      <td>10.0</td>\n",
       "    </tr>\n",
       "    <tr>\n",
       "      <th>1956-06-01</th>\n",
       "      <td>374.0</td>\n",
       "      <td>59.0</td>\n",
       "      <td>51.0</td>\n",
       "      <td>7.0</td>\n",
       "    </tr>\n",
       "    <tr>\n",
       "      <th>1956-07-01</th>\n",
       "      <td>413.0</td>\n",
       "      <td>49.0</td>\n",
       "      <td>-17.0</td>\n",
       "      <td>-21.0</td>\n",
       "    </tr>\n",
       "    <tr>\n",
       "      <th>1956-08-01</th>\n",
       "      <td>405.0</td>\n",
       "      <td>58.0</td>\n",
       "      <td>-47.0</td>\n",
       "      <td>19.0</td>\n",
       "    </tr>\n",
       "    <tr>\n",
       "      <th>1956-09-01</th>\n",
       "      <td>355.0</td>\n",
       "      <td>43.0</td>\n",
       "      <td>-42.0</td>\n",
       "      <td>-24.0</td>\n",
       "    </tr>\n",
       "    <tr>\n",
       "      <th>1956-10-01</th>\n",
       "      <td>306.0</td>\n",
       "      <td>32.0</td>\n",
       "      <td>1.0</td>\n",
       "      <td>4.0</td>\n",
       "    </tr>\n",
       "    <tr>\n",
       "      <th>1956-11-01</th>\n",
       "      <td>271.0</td>\n",
       "      <td>34.0</td>\n",
       "      <td>14.0</td>\n",
       "      <td>13.0</td>\n",
       "    </tr>\n",
       "    <tr>\n",
       "      <th>1956-12-01</th>\n",
       "      <td>306.0</td>\n",
       "      <td>28.0</td>\n",
       "      <td>70.0</td>\n",
       "      <td>-8.0</td>\n",
       "    </tr>\n",
       "    <tr>\n",
       "      <th>1957-01-01</th>\n",
       "      <td>315.0</td>\n",
       "      <td>31.0</td>\n",
       "      <td>-26.0</td>\n",
       "      <td>9.0</td>\n",
       "    </tr>\n",
       "    <tr>\n",
       "      <th>1957-02-01</th>\n",
       "      <td>301.0</td>\n",
       "      <td>24.0</td>\n",
       "      <td>-23.0</td>\n",
       "      <td>-10.0</td>\n",
       "    </tr>\n",
       "    <tr>\n",
       "      <th>1957-03-01</th>\n",
       "      <td>356.0</td>\n",
       "      <td>39.0</td>\n",
       "      <td>69.0</td>\n",
       "      <td>22.0</td>\n",
       "    </tr>\n",
       "    <tr>\n",
       "      <th>1957-04-01</th>\n",
       "      <td>348.0</td>\n",
       "      <td>35.0</td>\n",
       "      <td>-63.0</td>\n",
       "      <td>-19.0</td>\n",
       "    </tr>\n",
       "    <tr>\n",
       "      <th>1957-05-01</th>\n",
       "      <td>355.0</td>\n",
       "      <td>37.0</td>\n",
       "      <td>15.0</td>\n",
       "      <td>6.0</td>\n",
       "    </tr>\n",
       "    <tr>\n",
       "      <th>1957-06-01</th>\n",
       "      <td>422.0</td>\n",
       "      <td>48.0</td>\n",
       "      <td>60.0</td>\n",
       "      <td>9.0</td>\n",
       "    </tr>\n",
       "    <tr>\n",
       "      <th>1957-07-01</th>\n",
       "      <td>465.0</td>\n",
       "      <td>52.0</td>\n",
       "      <td>-24.0</td>\n",
       "      <td>-7.0</td>\n",
       "    </tr>\n",
       "    <tr>\n",
       "      <th>1957-08-01</th>\n",
       "      <td>467.0</td>\n",
       "      <td>62.0</td>\n",
       "      <td>-41.0</td>\n",
       "      <td>6.0</td>\n",
       "    </tr>\n",
       "    <tr>\n",
       "      <th>1957-09-01</th>\n",
       "      <td>404.0</td>\n",
       "      <td>49.0</td>\n",
       "      <td>-65.0</td>\n",
       "      <td>-23.0</td>\n",
       "    </tr>\n",
       "    <tr>\n",
       "      <th>1957-10-01</th>\n",
       "      <td>347.0</td>\n",
       "      <td>41.0</td>\n",
       "      <td>6.0</td>\n",
       "      <td>5.0</td>\n",
       "    </tr>\n",
       "    <tr>\n",
       "      <th>1957-11-01</th>\n",
       "      <td>305.0</td>\n",
       "      <td>34.0</td>\n",
       "      <td>15.0</td>\n",
       "      <td>1.0</td>\n",
       "    </tr>\n",
       "    <tr>\n",
       "      <th>1957-12-01</th>\n",
       "      <td>336.0</td>\n",
       "      <td>30.0</td>\n",
       "      <td>73.0</td>\n",
       "      <td>3.0</td>\n",
       "    </tr>\n",
       "    <tr>\n",
       "      <th>1958-01-01</th>\n",
       "      <td>340.0</td>\n",
       "      <td>25.0</td>\n",
       "      <td>-27.0</td>\n",
       "      <td>-1.0</td>\n",
       "    </tr>\n",
       "    <tr>\n",
       "      <th>1958-02-01</th>\n",
       "      <td>318.0</td>\n",
       "      <td>17.0</td>\n",
       "      <td>-26.0</td>\n",
       "      <td>-3.0</td>\n",
       "    </tr>\n",
       "    <tr>\n",
       "      <th>1958-03-01</th>\n",
       "      <td>362.0</td>\n",
       "      <td>6.0</td>\n",
       "      <td>66.0</td>\n",
       "      <td>-3.0</td>\n",
       "    </tr>\n",
       "    <tr>\n",
       "      <th>1958-04-01</th>\n",
       "      <td>348.0</td>\n",
       "      <td>0.0</td>\n",
       "      <td>-58.0</td>\n",
       "      <td>5.0</td>\n",
       "    </tr>\n",
       "    <tr>\n",
       "      <th>1958-05-01</th>\n",
       "      <td>363.0</td>\n",
       "      <td>8.0</td>\n",
       "      <td>29.0</td>\n",
       "      <td>14.0</td>\n",
       "    </tr>\n",
       "    <tr>\n",
       "      <th>1958-06-01</th>\n",
       "      <td>435.0</td>\n",
       "      <td>13.0</td>\n",
       "      <td>57.0</td>\n",
       "      <td>-3.0</td>\n",
       "    </tr>\n",
       "    <tr>\n",
       "      <th>1958-07-01</th>\n",
       "      <td>491.0</td>\n",
       "      <td>26.0</td>\n",
       "      <td>-16.0</td>\n",
       "      <td>8.0</td>\n",
       "    </tr>\n",
       "    <tr>\n",
       "      <th>1958-08-01</th>\n",
       "      <td>505.0</td>\n",
       "      <td>38.0</td>\n",
       "      <td>-42.0</td>\n",
       "      <td>-1.0</td>\n",
       "    </tr>\n",
       "    <tr>\n",
       "      <th>1958-09-01</th>\n",
       "      <td>404.0</td>\n",
       "      <td>0.0</td>\n",
       "      <td>-115.0</td>\n",
       "      <td>-50.0</td>\n",
       "    </tr>\n",
       "    <tr>\n",
       "      <th>1958-10-01</th>\n",
       "      <td>359.0</td>\n",
       "      <td>12.0</td>\n",
       "      <td>56.0</td>\n",
       "      <td>50.0</td>\n",
       "    </tr>\n",
       "    <tr>\n",
       "      <th>1958-11-01</th>\n",
       "      <td>310.0</td>\n",
       "      <td>5.0</td>\n",
       "      <td>-4.0</td>\n",
       "      <td>-19.0</td>\n",
       "    </tr>\n",
       "    <tr>\n",
       "      <th>1958-12-01</th>\n",
       "      <td>337.0</td>\n",
       "      <td>1.0</td>\n",
       "      <td>76.0</td>\n",
       "      <td>3.0</td>\n",
       "    </tr>\n",
       "    <tr>\n",
       "      <th>1959-01-01</th>\n",
       "      <td>360.0</td>\n",
       "      <td>20.0</td>\n",
       "      <td>-4.0</td>\n",
       "      <td>23.0</td>\n",
       "    </tr>\n",
       "    <tr>\n",
       "      <th>1959-02-01</th>\n",
       "      <td>342.0</td>\n",
       "      <td>24.0</td>\n",
       "      <td>-41.0</td>\n",
       "      <td>-15.0</td>\n",
       "    </tr>\n",
       "    <tr>\n",
       "      <th>1959-03-01</th>\n",
       "      <td>406.0</td>\n",
       "      <td>44.0</td>\n",
       "      <td>82.0</td>\n",
       "      <td>16.0</td>\n",
       "    </tr>\n",
       "    <tr>\n",
       "      <th>1959-04-01</th>\n",
       "      <td>396.0</td>\n",
       "      <td>48.0</td>\n",
       "      <td>-74.0</td>\n",
       "      <td>-16.0</td>\n",
       "    </tr>\n",
       "    <tr>\n",
       "      <th>1959-05-01</th>\n",
       "      <td>420.0</td>\n",
       "      <td>57.0</td>\n",
       "      <td>34.0</td>\n",
       "      <td>5.0</td>\n",
       "    </tr>\n",
       "    <tr>\n",
       "      <th>1959-06-01</th>\n",
       "      <td>472.0</td>\n",
       "      <td>37.0</td>\n",
       "      <td>28.0</td>\n",
       "      <td>-29.0</td>\n",
       "    </tr>\n",
       "    <tr>\n",
       "      <th>1959-07-01</th>\n",
       "      <td>548.0</td>\n",
       "      <td>57.0</td>\n",
       "      <td>24.0</td>\n",
       "      <td>40.0</td>\n",
       "    </tr>\n",
       "    <tr>\n",
       "      <th>1959-08-01</th>\n",
       "      <td>559.0</td>\n",
       "      <td>54.0</td>\n",
       "      <td>-65.0</td>\n",
       "      <td>-23.0</td>\n",
       "    </tr>\n",
       "    <tr>\n",
       "      <th>1959-09-01</th>\n",
       "      <td>463.0</td>\n",
       "      <td>59.0</td>\n",
       "      <td>-107.0</td>\n",
       "      <td>8.0</td>\n",
       "    </tr>\n",
       "    <tr>\n",
       "      <th>1959-10-01</th>\n",
       "      <td>407.0</td>\n",
       "      <td>48.0</td>\n",
       "      <td>40.0</td>\n",
       "      <td>-16.0</td>\n",
       "    </tr>\n",
       "    <tr>\n",
       "      <th>1959-11-01</th>\n",
       "      <td>362.0</td>\n",
       "      <td>52.0</td>\n",
       "      <td>11.0</td>\n",
       "      <td>15.0</td>\n",
       "    </tr>\n",
       "    <tr>\n",
       "      <th>1959-12-01</th>\n",
       "      <td>405.0</td>\n",
       "      <td>68.0</td>\n",
       "      <td>88.0</td>\n",
       "      <td>12.0</td>\n",
       "    </tr>\n",
       "    <tr>\n",
       "      <th>1960-01-01</th>\n",
       "      <td>417.0</td>\n",
       "      <td>57.0</td>\n",
       "      <td>-31.0</td>\n",
       "      <td>-27.0</td>\n",
       "    </tr>\n",
       "    <tr>\n",
       "      <th>1960-02-01</th>\n",
       "      <td>391.0</td>\n",
       "      <td>49.0</td>\n",
       "      <td>-38.0</td>\n",
       "      <td>3.0</td>\n",
       "    </tr>\n",
       "    <tr>\n",
       "      <th>1960-03-01</th>\n",
       "      <td>419.0</td>\n",
       "      <td>13.0</td>\n",
       "      <td>54.0</td>\n",
       "      <td>-28.0</td>\n",
       "    </tr>\n",
       "    <tr>\n",
       "      <th>1960-04-01</th>\n",
       "      <td>461.0</td>\n",
       "      <td>65.0</td>\n",
       "      <td>14.0</td>\n",
       "      <td>88.0</td>\n",
       "    </tr>\n",
       "    <tr>\n",
       "      <th>1960-05-01</th>\n",
       "      <td>472.0</td>\n",
       "      <td>52.0</td>\n",
       "      <td>-31.0</td>\n",
       "      <td>-65.0</td>\n",
       "    </tr>\n",
       "    <tr>\n",
       "      <th>1960-06-01</th>\n",
       "      <td>535.0</td>\n",
       "      <td>63.0</td>\n",
       "      <td>52.0</td>\n",
       "      <td>24.0</td>\n",
       "    </tr>\n",
       "    <tr>\n",
       "      <th>1960-07-01</th>\n",
       "      <td>622.0</td>\n",
       "      <td>74.0</td>\n",
       "      <td>24.0</td>\n",
       "      <td>0.0</td>\n",
       "    </tr>\n",
       "    <tr>\n",
       "      <th>1960-08-01</th>\n",
       "      <td>606.0</td>\n",
       "      <td>47.0</td>\n",
       "      <td>-103.0</td>\n",
       "      <td>-38.0</td>\n",
       "    </tr>\n",
       "    <tr>\n",
       "      <th>1960-09-01</th>\n",
       "      <td>508.0</td>\n",
       "      <td>45.0</td>\n",
       "      <td>-82.0</td>\n",
       "      <td>25.0</td>\n",
       "    </tr>\n",
       "    <tr>\n",
       "      <th>1960-10-01</th>\n",
       "      <td>461.0</td>\n",
       "      <td>54.0</td>\n",
       "      <td>51.0</td>\n",
       "      <td>11.0</td>\n",
       "    </tr>\n",
       "    <tr>\n",
       "      <th>1960-11-01</th>\n",
       "      <td>390.0</td>\n",
       "      <td>28.0</td>\n",
       "      <td>-24.0</td>\n",
       "      <td>-35.0</td>\n",
       "    </tr>\n",
       "    <tr>\n",
       "      <th>1960-12-01</th>\n",
       "      <td>432.0</td>\n",
       "      <td>27.0</td>\n",
       "      <td>113.0</td>\n",
       "      <td>25.0</td>\n",
       "    </tr>\n",
       "  </tbody>\n",
       "</table>\n",
       "</div>"
      ],
      "text/plain": [
       "            Thousands of Passengers  Differencing  Differencing1  \\\n",
       "Month                                                              \n",
       "1956-01-01                    284.0          42.0          -35.0   \n",
       "1956-02-01                    277.0          44.0          -13.0   \n",
       "1956-03-01                    317.0          50.0           47.0   \n",
       "1956-04-01                    313.0          44.0          -44.0   \n",
       "1956-05-01                    318.0          48.0            9.0   \n",
       "1956-06-01                    374.0          59.0           51.0   \n",
       "1956-07-01                    413.0          49.0          -17.0   \n",
       "1956-08-01                    405.0          58.0          -47.0   \n",
       "1956-09-01                    355.0          43.0          -42.0   \n",
       "1956-10-01                    306.0          32.0            1.0   \n",
       "1956-11-01                    271.0          34.0           14.0   \n",
       "1956-12-01                    306.0          28.0           70.0   \n",
       "1957-01-01                    315.0          31.0          -26.0   \n",
       "1957-02-01                    301.0          24.0          -23.0   \n",
       "1957-03-01                    356.0          39.0           69.0   \n",
       "1957-04-01                    348.0          35.0          -63.0   \n",
       "1957-05-01                    355.0          37.0           15.0   \n",
       "1957-06-01                    422.0          48.0           60.0   \n",
       "1957-07-01                    465.0          52.0          -24.0   \n",
       "1957-08-01                    467.0          62.0          -41.0   \n",
       "1957-09-01                    404.0          49.0          -65.0   \n",
       "1957-10-01                    347.0          41.0            6.0   \n",
       "1957-11-01                    305.0          34.0           15.0   \n",
       "1957-12-01                    336.0          30.0           73.0   \n",
       "1958-01-01                    340.0          25.0          -27.0   \n",
       "1958-02-01                    318.0          17.0          -26.0   \n",
       "1958-03-01                    362.0           6.0           66.0   \n",
       "1958-04-01                    348.0           0.0          -58.0   \n",
       "1958-05-01                    363.0           8.0           29.0   \n",
       "1958-06-01                    435.0          13.0           57.0   \n",
       "1958-07-01                    491.0          26.0          -16.0   \n",
       "1958-08-01                    505.0          38.0          -42.0   \n",
       "1958-09-01                    404.0           0.0         -115.0   \n",
       "1958-10-01                    359.0          12.0           56.0   \n",
       "1958-11-01                    310.0           5.0           -4.0   \n",
       "1958-12-01                    337.0           1.0           76.0   \n",
       "1959-01-01                    360.0          20.0           -4.0   \n",
       "1959-02-01                    342.0          24.0          -41.0   \n",
       "1959-03-01                    406.0          44.0           82.0   \n",
       "1959-04-01                    396.0          48.0          -74.0   \n",
       "1959-05-01                    420.0          57.0           34.0   \n",
       "1959-06-01                    472.0          37.0           28.0   \n",
       "1959-07-01                    548.0          57.0           24.0   \n",
       "1959-08-01                    559.0          54.0          -65.0   \n",
       "1959-09-01                    463.0          59.0         -107.0   \n",
       "1959-10-01                    407.0          48.0           40.0   \n",
       "1959-11-01                    362.0          52.0           11.0   \n",
       "1959-12-01                    405.0          68.0           88.0   \n",
       "1960-01-01                    417.0          57.0          -31.0   \n",
       "1960-02-01                    391.0          49.0          -38.0   \n",
       "1960-03-01                    419.0          13.0           54.0   \n",
       "1960-04-01                    461.0          65.0           14.0   \n",
       "1960-05-01                    472.0          52.0          -31.0   \n",
       "1960-06-01                    535.0          63.0           52.0   \n",
       "1960-07-01                    622.0          74.0           24.0   \n",
       "1960-08-01                    606.0          47.0         -103.0   \n",
       "1960-09-01                    508.0          45.0          -82.0   \n",
       "1960-10-01                    461.0          54.0           51.0   \n",
       "1960-11-01                    390.0          28.0          -24.0   \n",
       "1960-12-01                    432.0          27.0          113.0   \n",
       "\n",
       "            Differencing12  \n",
       "Month                       \n",
       "1956-01-01           -22.0  \n",
       "1956-02-01             9.0  \n",
       "1956-03-01             4.0  \n",
       "1956-04-01           -12.0  \n",
       "1956-05-01            10.0  \n",
       "1956-06-01             7.0  \n",
       "1956-07-01           -21.0  \n",
       "1956-08-01            19.0  \n",
       "1956-09-01           -24.0  \n",
       "1956-10-01             4.0  \n",
       "1956-11-01            13.0  \n",
       "1956-12-01            -8.0  \n",
       "1957-01-01             9.0  \n",
       "1957-02-01           -10.0  \n",
       "1957-03-01            22.0  \n",
       "1957-04-01           -19.0  \n",
       "1957-05-01             6.0  \n",
       "1957-06-01             9.0  \n",
       "1957-07-01            -7.0  \n",
       "1957-08-01             6.0  \n",
       "1957-09-01           -23.0  \n",
       "1957-10-01             5.0  \n",
       "1957-11-01             1.0  \n",
       "1957-12-01             3.0  \n",
       "1958-01-01            -1.0  \n",
       "1958-02-01            -3.0  \n",
       "1958-03-01            -3.0  \n",
       "1958-04-01             5.0  \n",
       "1958-05-01            14.0  \n",
       "1958-06-01            -3.0  \n",
       "1958-07-01             8.0  \n",
       "1958-08-01            -1.0  \n",
       "1958-09-01           -50.0  \n",
       "1958-10-01            50.0  \n",
       "1958-11-01           -19.0  \n",
       "1958-12-01             3.0  \n",
       "1959-01-01            23.0  \n",
       "1959-02-01           -15.0  \n",
       "1959-03-01            16.0  \n",
       "1959-04-01           -16.0  \n",
       "1959-05-01             5.0  \n",
       "1959-06-01           -29.0  \n",
       "1959-07-01            40.0  \n",
       "1959-08-01           -23.0  \n",
       "1959-09-01             8.0  \n",
       "1959-10-01           -16.0  \n",
       "1959-11-01            15.0  \n",
       "1959-12-01            12.0  \n",
       "1960-01-01           -27.0  \n",
       "1960-02-01             3.0  \n",
       "1960-03-01           -28.0  \n",
       "1960-04-01            88.0  \n",
       "1960-05-01           -65.0  \n",
       "1960-06-01            24.0  \n",
       "1960-07-01             0.0  \n",
       "1960-08-01           -38.0  \n",
       "1960-09-01            25.0  \n",
       "1960-10-01            11.0  \n",
       "1960-11-01           -35.0  \n",
       "1960-12-01            25.0  "
      ]
     },
     "execution_count": 104,
     "metadata": {},
     "output_type": "execute_result"
    }
   ],
   "source": [
    "test_data"
   ]
  },
  {
   "cell_type": "code",
   "execution_count": 105,
   "id": "0e57cb2d",
   "metadata": {},
   "outputs": [],
   "source": [
    "from statsmodels.tsa.arima_model import ARIMA"
   ]
  },
  {
   "cell_type": "code",
   "execution_count": 147,
   "id": "560fd246",
   "metadata": {},
   "outputs": [
    {
     "name": "stderr",
     "output_type": "stream",
     "text": [
      "E:\\python\\lib\\site-packages\\statsmodels\\tsa\\arima_model.py:472: FutureWarning: \n",
      "statsmodels.tsa.arima_model.ARMA and statsmodels.tsa.arima_model.ARIMA have\n",
      "been deprecated in favor of statsmodels.tsa.arima.model.ARIMA (note the .\n",
      "between arima and model) and\n",
      "statsmodels.tsa.SARIMAX. These will be removed after the 0.12 release.\n",
      "\n",
      "statsmodels.tsa.arima.model.ARIMA makes use of the statespace framework and\n",
      "is both well tested and maintained.\n",
      "\n",
      "To silence this warning and continue using ARMA and ARIMA until they are\n",
      "removed, use:\n",
      "\n",
      "import warnings\n",
      "warnings.filterwarnings('ignore', 'statsmodels.tsa.arima_model.ARMA',\n",
      "                        FutureWarning)\n",
      "warnings.filterwarnings('ignore', 'statsmodels.tsa.arima_model.ARIMA',\n",
      "                        FutureWarning)\n",
      "\n",
      "  warnings.warn(ARIMA_DEPRECATION_WARN, FutureWarning)\n",
      "E:\\python\\lib\\site-packages\\statsmodels\\tsa\\base\\tsa_model.py:524: ValueWarning: No frequency information was provided, so inferred frequency MS will be used.\n",
      "  warnings.warn('No frequency information was'\n",
      "E:\\python\\lib\\site-packages\\statsmodels\\tsa\\base\\tsa_model.py:524: ValueWarning: No frequency information was provided, so inferred frequency MS will be used.\n",
      "  warnings.warn('No frequency information was'\n"
     ]
    }
   ],
   "source": [
    "model = ARIMA(df_airline['Thousands of Passengers'],(3,1,5))"
   ]
  },
  {
   "cell_type": "code",
   "execution_count": 148,
   "id": "317d0d4d",
   "metadata": {},
   "outputs": [
    {
     "name": "stderr",
     "output_type": "stream",
     "text": [
      "E:\\python\\lib\\site-packages\\statsmodels\\base\\model.py:547: HessianInversionWarning: Inverting hessian failed, no bse or cov_params available\n",
      "  warnings.warn('Inverting hessian failed, no bse or cov_params '\n"
     ]
    }
   ],
   "source": [
    "fit_model = model.fit()"
   ]
  },
  {
   "cell_type": "code",
   "execution_count": 149,
   "id": "db14096a",
   "metadata": {},
   "outputs": [
    {
     "data": {
      "text/html": [
       "<table class=\"simpletable\">\n",
       "<caption>ARIMA Model Results</caption>\n",
       "<tr>\n",
       "  <th>Dep. Variable:</th> <td>D.Thousands of Passengers</td> <th>  No. Observations:  </th>    <td>105</td>  \n",
       "</tr>\n",
       "<tr>\n",
       "  <th>Model:</th>              <td>ARIMA(3, 1, 5)</td>       <th>  Log Likelihood     </th> <td>-497.221</td>\n",
       "</tr>\n",
       "<tr>\n",
       "  <th>Method:</th>                 <td>css-mle</td>          <th>  S.D. of innovations</th>  <td>26.186</td> \n",
       "</tr>\n",
       "<tr>\n",
       "  <th>Date:</th>              <td>Wed, 23 Mar 2022</td>      <th>  AIC                </th> <td>1014.441</td>\n",
       "</tr>\n",
       "<tr>\n",
       "  <th>Time:</th>                  <td>22:56:35</td>          <th>  BIC                </th> <td>1040.981</td>\n",
       "</tr>\n",
       "<tr>\n",
       "  <th>Sample:</th>               <td>04-01-1952</td>         <th>  HQIC               </th> <td>1025.196</td>\n",
       "</tr>\n",
       "<tr>\n",
       "  <th></th>                     <td>- 12-01-1960</td>        <th>                     </th>     <td> </td>   \n",
       "</tr>\n",
       "</table>\n",
       "<table class=\"simpletable\">\n",
       "<tr>\n",
       "                 <td></td>                    <th>coef</th>     <th>std err</th>      <th>z</th>      <th>P>|z|</th>  <th>[0.025</th>    <th>0.975]</th>  \n",
       "</tr>\n",
       "<tr>\n",
       "  <th>const</th>                           <td>    2.9422</td> <td>    0.229</td> <td>   12.870</td> <td> 0.000</td> <td>    2.494</td> <td>    3.390</td>\n",
       "</tr>\n",
       "<tr>\n",
       "  <th>ar.L1.D.Thousands of Passengers</th> <td>    0.3381</td> <td>    0.341</td> <td>    0.991</td> <td> 0.322</td> <td>   -0.330</td> <td>    1.007</td>\n",
       "</tr>\n",
       "<tr>\n",
       "  <th>ar.L2.D.Thousands of Passengers</th> <td>   -0.2145</td> <td>    0.309</td> <td>   -0.695</td> <td> 0.487</td> <td>   -0.819</td> <td>    0.390</td>\n",
       "</tr>\n",
       "<tr>\n",
       "  <th>ar.L3.D.Thousands of Passengers</th> <td>   -0.4692</td> <td>    0.262</td> <td>   -1.790</td> <td> 0.073</td> <td>   -0.983</td> <td>    0.044</td>\n",
       "</tr>\n",
       "<tr>\n",
       "  <th>ma.L1.D.Thousands of Passengers</th> <td>   -0.2870</td> <td>    0.347</td> <td>   -0.828</td> <td> 0.408</td> <td>   -0.966</td> <td>    0.392</td>\n",
       "</tr>\n",
       "<tr>\n",
       "  <th>ma.L2.D.Thousands of Passengers</th> <td>   -0.1578</td> <td>    0.277</td> <td>   -0.569</td> <td> 0.569</td> <td>   -0.701</td> <td>    0.386</td>\n",
       "</tr>\n",
       "<tr>\n",
       "  <th>ma.L3.D.Thousands of Passengers</th> <td>    0.5333</td> <td>    0.119</td> <td>    4.480</td> <td> 0.000</td> <td>    0.300</td> <td>    0.767</td>\n",
       "</tr>\n",
       "<tr>\n",
       "  <th>ma.L4.D.Thousands of Passengers</th> <td>   -0.6822</td> <td>    0.147</td> <td>   -4.625</td> <td> 0.000</td> <td>   -0.971</td> <td>   -0.393</td>\n",
       "</tr>\n",
       "<tr>\n",
       "  <th>ma.L5.D.Thousands of Passengers</th> <td>   -0.4062</td> <td>    0.292</td> <td>   -1.389</td> <td> 0.165</td> <td>   -0.979</td> <td>    0.167</td>\n",
       "</tr>\n",
       "</table>\n",
       "<table class=\"simpletable\">\n",
       "<caption>Roots</caption>\n",
       "<tr>\n",
       "    <td></td>   <th>            Real</th>  <th>         Imaginary</th> <th>         Modulus</th>  <th>        Frequency</th>\n",
       "</tr>\n",
       "<tr>\n",
       "  <th>AR.1</th> <td>           0.6025</td> <td>          -0.9588j</td> <td>           1.1323</td> <td>          -0.1607</td>\n",
       "</tr>\n",
       "<tr>\n",
       "  <th>AR.2</th> <td>           0.6025</td> <td>          +0.9588j</td> <td>           1.1323</td> <td>           0.1607</td>\n",
       "</tr>\n",
       "<tr>\n",
       "  <th>AR.3</th> <td>          -1.6621</td> <td>          -0.0000j</td> <td>           1.6621</td> <td>          -0.5000</td>\n",
       "</tr>\n",
       "<tr>\n",
       "  <th>MA.1</th> <td>           1.0000</td> <td>          -0.0000j</td> <td>           1.0000</td> <td>          -0.0000</td>\n",
       "</tr>\n",
       "<tr>\n",
       "  <th>MA.2</th> <td>           0.3163</td> <td>          -0.9487j</td> <td>           1.0000</td> <td>          -0.1988</td>\n",
       "</tr>\n",
       "<tr>\n",
       "  <th>MA.3</th> <td>           0.3163</td> <td>          +0.9487j</td> <td>           1.0000</td> <td>           0.1988</td>\n",
       "</tr>\n",
       "<tr>\n",
       "  <th>MA.4</th> <td>          -1.1262</td> <td>          -0.0000j</td> <td>           1.1262</td> <td>          -0.5000</td>\n",
       "</tr>\n",
       "<tr>\n",
       "  <th>MA.5</th> <td>          -2.1856</td> <td>          -0.0000j</td> <td>           2.1856</td> <td>          -0.5000</td>\n",
       "</tr>\n",
       "</table>"
      ],
      "text/plain": [
       "<class 'statsmodels.iolib.summary.Summary'>\n",
       "\"\"\"\n",
       "                                 ARIMA Model Results                                 \n",
       "=====================================================================================\n",
       "Dep. Variable:     D.Thousands of Passengers   No. Observations:                  105\n",
       "Model:                        ARIMA(3, 1, 5)   Log Likelihood                -497.221\n",
       "Method:                              css-mle   S.D. of innovations             26.186\n",
       "Date:                       Wed, 23 Mar 2022   AIC                           1014.441\n",
       "Time:                               22:56:35   BIC                           1040.981\n",
       "Sample:                           04-01-1952   HQIC                          1025.196\n",
       "                                - 12-01-1960                                         \n",
       "===================================================================================================\n",
       "                                      coef    std err          z      P>|z|      [0.025      0.975]\n",
       "---------------------------------------------------------------------------------------------------\n",
       "const                               2.9422      0.229     12.870      0.000       2.494       3.390\n",
       "ar.L1.D.Thousands of Passengers     0.3381      0.341      0.991      0.322      -0.330       1.007\n",
       "ar.L2.D.Thousands of Passengers    -0.2145      0.309     -0.695      0.487      -0.819       0.390\n",
       "ar.L3.D.Thousands of Passengers    -0.4692      0.262     -1.790      0.073      -0.983       0.044\n",
       "ma.L1.D.Thousands of Passengers    -0.2870      0.347     -0.828      0.408      -0.966       0.392\n",
       "ma.L2.D.Thousands of Passengers    -0.1578      0.277     -0.569      0.569      -0.701       0.386\n",
       "ma.L3.D.Thousands of Passengers     0.5333      0.119      4.480      0.000       0.300       0.767\n",
       "ma.L4.D.Thousands of Passengers    -0.6822      0.147     -4.625      0.000      -0.971      -0.393\n",
       "ma.L5.D.Thousands of Passengers    -0.4062      0.292     -1.389      0.165      -0.979       0.167\n",
       "                                    Roots                                    \n",
       "=============================================================================\n",
       "                  Real          Imaginary           Modulus         Frequency\n",
       "-----------------------------------------------------------------------------\n",
       "AR.1            0.6025           -0.9588j            1.1323           -0.1607\n",
       "AR.2            0.6025           +0.9588j            1.1323            0.1607\n",
       "AR.3           -1.6621           -0.0000j            1.6621           -0.5000\n",
       "MA.1            1.0000           -0.0000j            1.0000           -0.0000\n",
       "MA.2            0.3163           -0.9487j            1.0000           -0.1988\n",
       "MA.3            0.3163           +0.9487j            1.0000            0.1988\n",
       "MA.4           -1.1262           -0.0000j            1.1262           -0.5000\n",
       "MA.5           -2.1856           -0.0000j            2.1856           -0.5000\n",
       "-----------------------------------------------------------------------------\n",
       "\"\"\""
      ]
     },
     "execution_count": 149,
     "metadata": {},
     "output_type": "execute_result"
    }
   ],
   "source": [
    "fit_model.summary()"
   ]
  },
  {
   "cell_type": "code",
   "execution_count": 150,
   "id": "13404670",
   "metadata": {},
   "outputs": [],
   "source": [
    "#predictions\n",
    "pred_start_date = test_data.index[0]\n",
    "pred_end_date = test_data.index[-1]"
   ]
  },
  {
   "cell_type": "code",
   "execution_count": 151,
   "id": "44c25722",
   "metadata": {},
   "outputs": [
    {
     "name": "stderr",
     "output_type": "stream",
     "text": [
      "E:\\python\\lib\\site-packages\\statsmodels\\tsa\\base\\tsa_model.py:132: FutureWarning: The 'freq' argument in Timestamp is deprecated and will be removed in a future version.\n",
      "  date_key = Timestamp(key, freq=base_index.freq)\n"
     ]
    }
   ],
   "source": [
    "predictions = fit_model.predict(pred_start_date,pred_end_date)"
   ]
  },
  {
   "cell_type": "code",
   "execution_count": 152,
   "id": "34976265",
   "metadata": {},
   "outputs": [
    {
     "name": "stderr",
     "output_type": "stream",
     "text": [
      "C:\\Users\\Asheesh\\AppData\\Local\\Temp/ipykernel_1332/330256658.py:1: SettingWithCopyWarning: \n",
      "A value is trying to be set on a copy of a slice from a DataFrame.\n",
      "Try using .loc[row_indexer,col_indexer] = value instead\n",
      "\n",
      "See the caveats in the documentation: https://pandas.pydata.org/pandas-docs/stable/user_guide/indexing.html#returning-a-view-versus-a-copy\n",
      "  test_data['Predictions'] = predictions\n"
     ]
    }
   ],
   "source": [
    "test_data['Predictions'] = predictions"
   ]
  },
  {
   "cell_type": "code",
   "execution_count": 153,
   "id": "a7ede45e",
   "metadata": {},
   "outputs": [
    {
     "data": {
      "text/plain": [
       "<AxesSubplot:xlabel='Month'>"
      ]
     },
     "execution_count": 153,
     "metadata": {},
     "output_type": "execute_result"
    },
    {
     "data": {
      "image/png": "[encoded data removed]",
      "text/plain": [
       "<Figure size 432x288 with 1 Axes>"
      ]
     },
     "metadata": {
      "needs_background": "light"
     },
     "output_type": "display_data"
    }
   ],
   "source": [
    "test_data[['Thousands of Passengers','Predictions']].plot()"
   ]
  },
  {
   "cell_type": "code",
   "execution_count": 135,
   "id": "96caf641",
   "metadata": {},
   "outputs": [],
   "source": [
    "from statsmodels.tsa.statespace.sarimax import SARIMAX"
   ]
  },
  {
   "cell_type": "code",
   "execution_count": 136,
   "id": "d6b3de9f",
   "metadata": {},
   "outputs": [
    {
     "name": "stderr",
     "output_type": "stream",
     "text": [
      "E:\\python\\lib\\site-packages\\statsmodels\\tsa\\base\\tsa_model.py:524: ValueWarning: No frequency information was provided, so inferred frequency MS will be used.\n",
      "  warnings.warn('No frequency information was'\n",
      "E:\\python\\lib\\site-packages\\statsmodels\\tsa\\base\\tsa_model.py:524: ValueWarning: No frequency information was provided, so inferred frequency MS will be used.\n",
      "  warnings.warn('No frequency information was'\n"
     ]
    }
   ],
   "source": [
    "sa_model = SARIMAX(df_airline['Thousands of Passengers'], order = (3,0,5) , seasonal_order=(0,1,0,12))"
   ]
  },
  {
   "cell_type": "code",
   "execution_count": 138,
   "id": "a1cc5038",
   "metadata": {},
   "outputs": [
    {
     "name": "stderr",
     "output_type": "stream",
     "text": [
      "E:\\python\\lib\\site-packages\\statsmodels\\base\\model.py:566: ConvergenceWarning: Maximum Likelihood optimization failed to converge. Check mle_retvals\n",
      "  warnings.warn(\"Maximum Likelihood optimization failed to \"\n"
     ]
    }
   ],
   "source": [
    "fit_model1 =sa_model.fit()"
   ]
  },
  {
   "cell_type": "code",
   "execution_count": 139,
   "id": "7a5c6e3e",
   "metadata": {},
   "outputs": [
    {
     "data": {
      "text/html": [
       "<table class=\"simpletable\">\n",
       "<caption>SARIMAX Results</caption>\n",
       "<tr>\n",
       "  <th>Dep. Variable:</th>       <td>Thousands of Passengers</td>     <th>  No. Observations:  </th>    <td>106</td>  \n",
       "</tr>\n",
       "<tr>\n",
       "  <th>Model:</th>           <td>SARIMAX(3, 0, 5)x(0, 1, [], 12)</td> <th>  Log Likelihood     </th> <td>-367.502</td>\n",
       "</tr>\n",
       "<tr>\n",
       "  <th>Date:</th>                   <td>Wed, 23 Mar 2022</td>         <th>  AIC                </th>  <td>753.004</td>\n",
       "</tr>\n",
       "<tr>\n",
       "  <th>Time:</th>                       <td>22:52:02</td>             <th>  BIC                </th>  <td>775.894</td>\n",
       "</tr>\n",
       "<tr>\n",
       "  <th>Sample:</th>                    <td>03-01-1952</td>            <th>  HQIC               </th>  <td>762.250</td>\n",
       "</tr>\n",
       "<tr>\n",
       "  <th></th>                          <td>- 12-01-1960</td>           <th>                     </th>     <td> </td>   \n",
       "</tr>\n",
       "<tr>\n",
       "  <th>Covariance Type:</th>               <td>opg</td>               <th>                     </th>     <td> </td>   \n",
       "</tr>\n",
       "</table>\n",
       "<table class=\"simpletable\">\n",
       "<tr>\n",
       "     <td></td>       <th>coef</th>     <th>std err</th>      <th>z</th>      <th>P>|z|</th>  <th>[0.025</th>    <th>0.975]</th>  \n",
       "</tr>\n",
       "<tr>\n",
       "  <th>ar.L1</th>  <td>    0.6004</td> <td>    2.081</td> <td>    0.289</td> <td> 0.773</td> <td>   -3.478</td> <td>    4.679</td>\n",
       "</tr>\n",
       "<tr>\n",
       "  <th>ar.L2</th>  <td>    0.5811</td> <td>    0.521</td> <td>    1.116</td> <td> 0.265</td> <td>   -0.440</td> <td>    1.602</td>\n",
       "</tr>\n",
       "<tr>\n",
       "  <th>ar.L3</th>  <td>   -0.2066</td> <td>    1.557</td> <td>   -0.133</td> <td> 0.894</td> <td>   -3.258</td> <td>    2.845</td>\n",
       "</tr>\n",
       "<tr>\n",
       "  <th>ma.L1</th>  <td>    0.1162</td> <td>    2.049</td> <td>    0.057</td> <td> 0.955</td> <td>   -3.900</td> <td>    4.133</td>\n",
       "</tr>\n",
       "<tr>\n",
       "  <th>ma.L2</th>  <td>   -0.1969</td> <td>    1.043</td> <td>   -0.189</td> <td> 0.850</td> <td>   -2.242</td> <td>    1.848</td>\n",
       "</tr>\n",
       "<tr>\n",
       "  <th>ma.L3</th>  <td>    0.0380</td> <td>    0.207</td> <td>    0.184</td> <td> 0.854</td> <td>   -0.367</td> <td>    0.443</td>\n",
       "</tr>\n",
       "<tr>\n",
       "  <th>ma.L4</th>  <td>   -0.3387</td> <td>    0.161</td> <td>   -2.099</td> <td> 0.036</td> <td>   -0.655</td> <td>   -0.023</td>\n",
       "</tr>\n",
       "<tr>\n",
       "  <th>ma.L5</th>  <td>    0.1645</td> <td>    0.731</td> <td>    0.225</td> <td> 0.822</td> <td>   -1.268</td> <td>    1.597</td>\n",
       "</tr>\n",
       "<tr>\n",
       "  <th>sigma2</th> <td>  140.8645</td> <td>   21.230</td> <td>    6.635</td> <td> 0.000</td> <td>   99.255</td> <td>  182.474</td>\n",
       "</tr>\n",
       "</table>\n",
       "<table class=\"simpletable\">\n",
       "<tr>\n",
       "  <th>Ljung-Box (L1) (Q):</th>     <td>0.00</td> <th>  Jarque-Bera (JB):  </th> <td>7.32</td>\n",
       "</tr>\n",
       "<tr>\n",
       "  <th>Prob(Q):</th>                <td>0.97</td> <th>  Prob(JB):          </th> <td>0.03</td>\n",
       "</tr>\n",
       "<tr>\n",
       "  <th>Heteroskedasticity (H):</th> <td>2.28</td> <th>  Skew:              </th> <td>0.09</td>\n",
       "</tr>\n",
       "<tr>\n",
       "  <th>Prob(H) (two-sided):</th>    <td>0.02</td> <th>  Kurtosis:          </th> <td>4.35</td>\n",
       "</tr>\n",
       "</table><br/><br/>Warnings:<br/>[1] Covariance matrix calculated using the outer product of gradients (complex-step)."
      ],
      "text/plain": [
       "<class 'statsmodels.iolib.summary.Summary'>\n",
       "\"\"\"\n",
       "                                      SARIMAX Results                                      \n",
       "===========================================================================================\n",
       "Dep. Variable:             Thousands of Passengers   No. Observations:                  106\n",
       "Model:             SARIMAX(3, 0, 5)x(0, 1, [], 12)   Log Likelihood                -367.502\n",
       "Date:                             Wed, 23 Mar 2022   AIC                            753.004\n",
       "Time:                                     22:52:02   BIC                            775.894\n",
       "Sample:                                 03-01-1952   HQIC                           762.250\n",
       "                                      - 12-01-1960                                         \n",
       "Covariance Type:                               opg                                         \n",
       "==============================================================================\n",
       "                 coef    std err          z      P>|z|      [0.025      0.975]\n",
       "------------------------------------------------------------------------------\n",
       "ar.L1          0.6004      2.081      0.289      0.773      -3.478       4.679\n",
       "ar.L2          0.5811      0.521      1.116      0.265      -0.440       1.602\n",
       "ar.L3         -0.2066      1.557     -0.133      0.894      -3.258       2.845\n",
       "ma.L1          0.1162      2.049      0.057      0.955      -3.900       4.133\n",
       "ma.L2         -0.1969      1.043     -0.189      0.850      -2.242       1.848\n",
       "ma.L3          0.0380      0.207      0.184      0.854      -0.367       0.443\n",
       "ma.L4         -0.3387      0.161     -2.099      0.036      -0.655      -0.023\n",
       "ma.L5          0.1645      0.731      0.225      0.822      -1.268       1.597\n",
       "sigma2       140.8645     21.230      6.635      0.000      99.255     182.474\n",
       "===================================================================================\n",
       "Ljung-Box (L1) (Q):                   0.00   Jarque-Bera (JB):                 7.32\n",
       "Prob(Q):                              0.97   Prob(JB):                         0.03\n",
       "Heteroskedasticity (H):               2.28   Skew:                             0.09\n",
       "Prob(H) (two-sided):                  0.02   Kurtosis:                         4.35\n",
       "===================================================================================\n",
       "\n",
       "Warnings:\n",
       "[1] Covariance matrix calculated using the outer product of gradients (complex-step).\n",
       "\"\"\""
      ]
     },
     "execution_count": 139,
     "metadata": {},
     "output_type": "execute_result"
    }
   ],
   "source": [
    "fit_model1.summary()"
   ]
  },
  {
   "cell_type": "code",
   "execution_count": 140,
   "id": "fef39b7c",
   "metadata": {},
   "outputs": [
    {
     "name": "stderr",
     "output_type": "stream",
     "text": [
      "E:\\python\\lib\\site-packages\\statsmodels\\tsa\\base\\tsa_model.py:132: FutureWarning: The 'freq' argument in Timestamp is deprecated and will be removed in a future version.\n",
      "  date_key = Timestamp(key, freq=base_index.freq)\n"
     ]
    }
   ],
   "source": [
    "predictions1 = fit_model1.predict(pred_start_date,pred_end_date)"
   ]
  },
  {
   "cell_type": "code",
   "execution_count": 142,
   "id": "bccc5ad0",
   "metadata": {},
   "outputs": [
    {
     "name": "stderr",
     "output_type": "stream",
     "text": [
      "C:\\Users\\Asheesh\\AppData\\Local\\Temp/ipykernel_1332/3490255020.py:1: SettingWithCopyWarning: \n",
      "A value is trying to be set on a copy of a slice from a DataFrame.\n",
      "Try using .loc[row_indexer,col_indexer] = value instead\n",
      "\n",
      "See the caveats in the documentation: https://pandas.pydata.org/pandas-docs/stable/user_guide/indexing.html#returning-a-view-versus-a-copy\n",
      "  test_data['Predictions1'] = predictions1\n"
     ]
    }
   ],
   "source": [
    "test_data['Predictions1'] = predictions1"
   ]
  },
  {
   "cell_type": "code",
   "execution_count": 143,
   "id": "3bbbbecc",
   "metadata": {},
   "outputs": [
    {
     "data": {
      "text/plain": [
       "<AxesSubplot:xlabel='Month'>"
      ]
     },
     "execution_count": 143,
     "metadata": {},
     "output_type": "execute_result"
    },
    {
     "data": {
      "image/png": "[encoded data removed]",
      "text/plain": [
       "<Figure size 432x288 with 1 Axes>"
      ]
     },
     "metadata": {
      "needs_background": "light"
     },
     "output_type": "display_data"
    }
   ],
   "source": [
    "test_data[['Thousands of Passengers','Predictions1']].plot()"
   ]
  },
  {
   "cell_type": "code",
   "execution_count": 145,
   "id": "ed311e7c",
   "metadata": {},
   "outputs": [
    {
     "data": {
      "text/plain": [
       "Month\n",
       "1956-01-01    284.421598\n",
       "1956-02-01    278.328536\n",
       "1956-03-01    310.477627\n",
       "1956-04-01    311.984719\n",
       "1956-05-01    316.993470\n",
       "1956-06-01    359.597354\n",
       "1956-07-01    417.303010\n",
       "1956-08-01    398.237090\n",
       "1956-09-01    365.096243\n",
       "1956-10-01    316.043381\n",
       "1956-11-01    274.113917\n",
       "1956-12-01    306.364127\n",
       "1957-01-01    318.676277\n",
       "1957-02-01    306.127644\n",
       "1957-03-01    343.158373\n",
       "1957-04-01    345.924073\n",
       "1957-05-01    355.427475\n",
       "1957-06-01    409.655233\n",
       "1957-07-01    452.493206\n",
       "1957-08-01    456.884773\n",
       "1957-09-01    412.192625\n",
       "1957-10-01    353.991714\n",
       "1957-11-01    310.261096\n",
       "1957-12-01    339.202511\n",
       "1958-01-01    349.134772\n",
       "1958-02-01    326.810672\n",
       "1958-03-01    375.822356\n",
       "1958-04-01    356.318997\n",
       "1958-05-01    358.961140\n",
       "1958-06-01    428.626343\n",
       "1958-07-01    480.315573\n",
       "1958-08-01    489.196063\n",
       "1958-09-01    436.477275\n",
       "1958-10-01    355.741440\n",
       "1958-11-01    309.154273\n",
       "1958-12-01    340.603244\n",
       "1959-01-01    354.163219\n",
       "1959-02-01    324.531566\n",
       "1959-03-01    388.818009\n",
       "1959-04-01    384.370675\n",
       "1959-05-01    408.493654\n",
       "1959-06-01    482.770255\n",
       "1959-07-01    530.401339\n",
       "1959-08-01    552.436716\n",
       "1959-09-01    456.805317\n",
       "1959-10-01    419.664741\n",
       "1959-11-01    351.776493\n",
       "1959-12-01    388.512957\n",
       "1960-01-01    419.531027\n",
       "1960-02-01    407.153392\n",
       "1960-03-01    448.198283\n",
       "1960-04-01    416.293036\n",
       "1960-05-01    470.353563\n",
       "1960-06-01    533.642348\n",
       "1960-07-01    611.381949\n",
       "1960-08-01    610.382539\n",
       "1960-09-01    525.452358\n",
       "1960-10-01    445.092158\n",
       "1960-11-01    412.606834\n",
       "1960-12-01    440.702925\n",
       "Name: Predictions1, dtype: float64"
      ]
     },
     "execution_count": 145,
     "metadata": {},
     "output_type": "execute_result"
    }
   ],
   "source": [
    "test_data['Predictions1']"
   ]
  },
  {
   "cell_type": "code",
   "execution_count": 146,
   "id": "bdc76a27",
   "metadata": {},
   "outputs": [
    {
     "data": {
      "image/png": "[encoded data removed]",
      "text/plain": [
       "<Figure size 432x288 with 1 Axes>"
      ]
     },
     "execution_count": 146,
     "metadata": {},
     "output_type": "execute_result"
    },
    {
     "data": {
      "image/png": "[encoded data removed]",
      "text/plain": [
       "<Figure size 432x288 with 1 Axes>"
      ]
     },
     "metadata": {
      "needs_background": "light"
     },
     "output_type": "display_data"
    },
    {
     "data": {
      "image/png": "[encoded data removed]",
      "text/plain": [
       "<Figure size 432x288 with 1 Axes>"
      ]
     },
     "metadata": {
      "needs_background": "light"
     },
     "output_type": "display_data"
    }
   ],
   "source": [
    "plot_acf(df_airline['Differencing'])\n",
    "plot_pacf(df_airline['Differencing'])"
   ]
  },
  {
   "cell_type": "code",
   "execution_count": null,
   "id": "7f3759a9",
   "metadata": {},
   "outputs": [],
   "source": []
  }
 ],
 "metadata": {
  "kernelspec": {
   "display_name": "Python 3 (ipykernel)",
   "language": "python",
   "name": "python3"
  },
  "language_info": {
   "codemirror_mode": {
    "name": "ipython",
    "version": 3
   },
   "file_extension": ".py",
   "mimetype": "text/x-python",
   "name": "python",
   "nbconvert_exporter": "python",
   "pygments_lexer": "ipython3",
   "version": "3.9.7"
  }
 },
 "nbformat": 4,
 "nbformat_minor": 5
}
